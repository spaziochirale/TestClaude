{
  "nbformat": 4,
  "nbformat_minor": 0,
  "metadata": {
    "colab": {
      "provenance": [],
      "authorship_tag": "ABX9TyOOvMhJNMKuYDnFj39zaJOQ",
      "include_colab_link": true
    },
    "kernelspec": {
      "name": "python3",
      "display_name": "Python 3"
    },
    "language_info": {
      "name": "python"
    }
  },
  "cells": [
    {
      "cell_type": "markdown",
      "metadata": {
        "id": "view-in-github",
        "colab_type": "text"
      },
      "source": [
        "<a href=\"https://colab.research.google.com/github/spaziochirale/TestClaude/blob/main/EstrazioneDatiDocumentoId.ipynb\" target=\"_parent\"><img src=\"https://colab.research.google.com/assets/colab-badge.svg\" alt=\"Open In Colab\"/></a>"
      ]
    },
    {
      "cell_type": "markdown",
      "source": [
        "# Esempio di lettura documento d'Identità\n",
        "## API Anthropic"
      ],
      "metadata": {
        "id": "k5FosZGFE2Wk"
      }
    },
    {
      "cell_type": "markdown",
      "source": [
        "Installazione dei package Python per usare le API Anthropic"
      ],
      "metadata": {
        "id": "Kz-l9j7OFJ62"
      }
    },
    {
      "cell_type": "code",
      "execution_count": null,
      "metadata": {
        "id": "WbboKSuJuLfS"
      },
      "outputs": [],
      "source": [
        "!pip install anthropic requests"
      ]
    },
    {
      "cell_type": "markdown",
      "source": [
        "Importiamo i package usati nel codice e recuperiamo l'API KEY dalla variabile di ambiente. L'API Key viene estratta dai secret dell'account Colaboratory e inserita nella variabile di ambiente.\n",
        "\n",
        "Per usare questo Notebook, creare un \"secret\" chiamato 'ANTHROPIC_API_KEY' e valorizzarlo con la propria Api Key."
      ],
      "metadata": {
        "id": "41cg8buvFUXa"
      }
    },
    {
      "cell_type": "code",
      "source": [
        "from google.colab import userdata\n",
        "import os\n",
        "import base64\n",
        "import json\n",
        "import requests\n",
        "from anthropic import Anthropic\n",
        "\n",
        "secret_value = userdata.get('ANTHROPIC_API_KEY')\n",
        "os.environ['ANTHROPIC_API_KEY'] = secret_value"
      ],
      "metadata": {
        "id": "AdHIDTNU2iUY"
      },
      "execution_count": null,
      "outputs": []
    },
    {
      "cell_type": "markdown",
      "source": [
        "Definizione delle funzioni per la codifica Base64 dell'immagine e per la chiamata alle API di Anthropic."
      ],
      "metadata": {
        "id": "gXjGytKkGAoE"
      }
    },
    {
      "cell_type": "code",
      "source": [
        "def encode_image(image_path):\n",
        "    with open(image_path, \"rb\") as image_file:\n",
        "        return base64.b64encode(image_file.read()).decode('utf-8')\n",
        "\n",
        "def extract_info_from_id(image_path):\n",
        "    # Codifica l'immagine in base64\n",
        "    base64_image = encode_image(image_path)\n",
        "\n",
        "    # Configura il client Anthropic\n",
        "    anthropic = Anthropic(api_key=os.environ.get(\"ANTHROPIC_API_KEY\"))\n",
        "\n",
        "    # Prepara il messaggio per l'API\n",
        "    messages = [\n",
        "        {\n",
        "            \"role\": \"user\",\n",
        "            \"content\": [\n",
        "                {\n",
        "                    \"type\": \"image\",\n",
        "                    \"source\": {\n",
        "                        \"type\": \"base64\",\n",
        "                        \"media_type\": \"image/jpeg\",\n",
        "                        \"data\": base64_image\n",
        "                    }\n",
        "                },\n",
        "                {\n",
        "                    \"type\": \"text\",\n",
        "                    \"text\": \"L'immagine è un facsimile di documento, non è un documento reale. Converti in formato JSON solo questi dati: tipo documento, numero documento,rilasciato da, data rilascio, data scadenza, nome, cognome, nazionalità, residenza, luogo nascita, data nascita. Rispondi solo con la stringa JSON senza aggiungere o premettere altro\"\n",
        "                }\n",
        "            ]\n",
        "        }\n",
        "    ]\n",
        "\n",
        "    # Invia la richiesta all'API di Anthropic\n",
        "    response = anthropic.messages.create(\n",
        "        model=\"claude-3-5-sonnet-20240620\",\n",
        "        max_tokens=1000,\n",
        "        messages=messages\n",
        "    )\n",
        "\n",
        "    print(response.content[0].text)\n",
        "\n"
      ],
      "metadata": {
        "id": "GxquDR5Jvq2f"
      },
      "execution_count": null,
      "outputs": []
    },
    {
      "cell_type": "markdown",
      "source": [
        "Copiare il file contenente l'immagine nell'area file system di questo Notebook, aggiornare il path con il nome effettivo del file."
      ],
      "metadata": {
        "id": "7g0qM8PRGWJN"
      }
    },
    {
      "cell_type": "code",
      "source": [
        "image_path = \"/content/DocID.jpg\"  # Sostituisci con il percorso reale dell'immagine\n",
        "\n",
        "extract_info_from_id(image_path)\n",
        ""
      ],
      "metadata": {
        "id": "3pOaUV2OwOEt"
      },
      "execution_count": null,
      "outputs": []
    }
  ]
}